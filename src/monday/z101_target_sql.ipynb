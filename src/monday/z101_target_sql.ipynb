{
 "cells": [
  {
   "cell_type": "markdown",
   "metadata": {},
   "source": [
    "# Crear Target\n",
    "\n",
    "## Ejercicio 1:\n",
    "Cree el archivo `competencia_01.csv`, usando el `competencia_01_crudo.csv` con una variable adicional llamada `clase_ternaria`, que contenga las categorías **CONTINUA**, **BAJA+1** y **BAJA+2** \n",
    "\n",
    "### Ayudita \n",
    "\n",
    "Para practicar el muy útil y necesario lenguaje **SQL**, vamos a utilizar una base de datos **OLAP** llamada **DuckDB**. \n",
    "\n",
    "La documentación la puede encontrar [aquí](https://duckdb.org/docs/archive/0.8.1/sql/introduction)\n",
    "Procedemos a instalarla, esto se debe ejecutar una sola vez"
   ]
  },
  {
   "cell_type": "code",
   "execution_count": 1,
   "metadata": {},
   "outputs": [
    {
     "name": "stderr",
     "output_type": "stream",
     "text": [
      "WARNING: pip is being invoked by an old script wrapper. This will fail in a future version of pip.\n",
      "Please see https://github.com/pypa/pip/issues/5599 for advice on fixing the underlying issue.\n",
      "To avoid this problem you can invoke Python with '-m pip' instead of running pip directly.\n"
     ]
    },
    {
     "name": "stdout",
     "output_type": "stream",
     "text": [
      "Defaulting to user installation because normal site-packages is not writeable\n",
      "Requirement already satisfied: duckdb in /home/maxibeckel/.local/lib/python3.8/site-packages (0.8.1)\n"
     ]
    },
    {
     "name": "stderr",
     "output_type": "stream",
     "text": [
      "\u001b[33mDEPRECATION: distro-info 0.18ubuntu0.18.04.1 has a non-standard version number. pip 23.3 will enforce this behaviour change. A possible replacement is to upgrade to a newer version of distro-info or contact the author to suggest that they release a version with a conforming version number. Discussion can be found at https://github.com/pypa/pip/issues/12063\u001b[0m\u001b[33m\n",
      "\u001b[0mWARNING: pip is being invoked by an old script wrapper. This will fail in a future version of pip.\n",
      "Please see https://github.com/pypa/pip/issues/5599 for advice on fixing the underlying issue.\n",
      "To avoid this problem you can invoke Python with '-m pip' instead of running pip directly.\n"
     ]
    },
    {
     "name": "stdout",
     "output_type": "stream",
     "text": [
      "Defaulting to user installation because normal site-packages is not writeable\n",
      "Requirement already satisfied: jupysql in /home/maxibeckel/.local/lib/python3.8/site-packages (0.9.1)\n",
      "Requirement already satisfied: prettytable in /home/maxibeckel/.local/lib/python3.8/site-packages (from jupysql) (3.8.0)\n",
      "Requirement already satisfied: ipython in /home/maxibeckel/.local/lib/python3.8/site-packages (from jupysql) (8.12.2)\n",
      "Requirement already satisfied: sqlalchemy in /home/maxibeckel/.local/lib/python3.8/site-packages (from jupysql) (2.0.20)\n",
      "Requirement already satisfied: sqlparse in /home/maxibeckel/.local/lib/python3.8/site-packages (from jupysql) (0.4.4)\n",
      "Requirement already satisfied: ipython-genutils>=0.1.0 in /home/maxibeckel/.local/lib/python3.8/site-packages (from jupysql) (0.2.0)\n",
      "Requirement already satisfied: sqlglot in /home/maxibeckel/.local/lib/python3.8/site-packages (from jupysql) (17.14.2)\n",
      "Requirement already satisfied: jinja2 in /home/maxibeckel/.local/lib/python3.8/site-packages (from jupysql) (3.1.2)\n",
      "Requirement already satisfied: ploomber-core>=0.2.7 in /home/maxibeckel/.local/lib/python3.8/site-packages (from jupysql) (0.2.14)\n",
      "Collecting ipython (from jupysql)\n",
      "  Using cached ipython-8.12.0-py3-none-any.whl (796 kB)\n",
      "Requirement already satisfied: backcall in /home/maxibeckel/.local/lib/python3.8/site-packages (from ipython->jupysql) (0.2.0)\n",
      "Requirement already satisfied: decorator in /home/maxibeckel/.local/lib/python3.8/site-packages (from ipython->jupysql) (5.1.1)\n",
      "Requirement already satisfied: jedi>=0.16 in /home/maxibeckel/.local/lib/python3.8/site-packages (from ipython->jupysql) (0.19.0)\n",
      "Requirement already satisfied: matplotlib-inline in /home/maxibeckel/.local/lib/python3.8/site-packages (from ipython->jupysql) (0.1.6)\n",
      "Requirement already satisfied: pickleshare in /home/maxibeckel/.local/lib/python3.8/site-packages (from ipython->jupysql) (0.7.5)\n",
      "Requirement already satisfied: prompt-toolkit!=3.0.37,<3.1.0,>=3.0.30 in /home/maxibeckel/.local/lib/python3.8/site-packages (from ipython->jupysql) (3.0.39)\n",
      "Requirement already satisfied: pygments>=2.4.0 in /home/maxibeckel/.local/lib/python3.8/site-packages (from ipython->jupysql) (2.16.1)\n",
      "Requirement already satisfied: stack-data in /home/maxibeckel/.local/lib/python3.8/site-packages (from ipython->jupysql) (0.6.2)\n",
      "Requirement already satisfied: traitlets>=5 in /home/maxibeckel/.local/lib/python3.8/site-packages (from ipython->jupysql) (5.9.0)\n",
      "Requirement already satisfied: typing-extensions in /home/maxibeckel/.local/lib/python3.8/site-packages (from ipython->jupysql) (4.7.1)\n",
      "Requirement already satisfied: pexpect>4.3 in /home/maxibeckel/.local/lib/python3.8/site-packages (from ipython->jupysql) (4.8.0)\n",
      "Requirement already satisfied: click in /home/maxibeckel/.local/lib/python3.8/site-packages (from ploomber-core>=0.2.7->jupysql) (8.1.7)\n",
      "Requirement already satisfied: pyyaml in /home/maxibeckel/.local/lib/python3.8/site-packages (from ploomber-core>=0.2.7->jupysql) (6.0.1)\n",
      "Requirement already satisfied: posthog in /home/maxibeckel/.local/lib/python3.8/site-packages (from ploomber-core>=0.2.7->jupysql) (3.0.2)\n",
      "Collecting MarkupSafe>=2.0 (from jinja2->jupysql)\n",
      "  Obtaining dependency information for MarkupSafe>=2.0 from https://files.pythonhosted.org/packages/de/e2/32c14301bb023986dff527a49325b6259cab4ebb4633f69de54af312fc45/MarkupSafe-2.1.3-cp38-cp38-manylinux_2_17_x86_64.manylinux2014_x86_64.whl.metadata\n",
      "  Downloading MarkupSafe-2.1.3-cp38-cp38-manylinux_2_17_x86_64.manylinux2014_x86_64.whl.metadata (3.0 kB)\n",
      "Requirement already satisfied: wcwidth in /home/maxibeckel/.local/lib/python3.8/site-packages (from prettytable->jupysql) (0.2.6)\n",
      "Requirement already satisfied: greenlet!=0.4.17 in /home/maxibeckel/.local/lib/python3.8/site-packages (from sqlalchemy->jupysql) (2.0.2)\n",
      "Requirement already satisfied: parso<0.9.0,>=0.8.3 in /home/maxibeckel/.local/lib/python3.8/site-packages (from jedi>=0.16->ipython->jupysql) (0.8.3)\n",
      "Requirement already satisfied: ptyprocess>=0.5 in /home/maxibeckel/.local/lib/python3.8/site-packages (from pexpect>4.3->ipython->jupysql) (0.7.0)\n",
      "Requirement already satisfied: requests<3.0,>=2.7 in /home/maxibeckel/.local/lib/python3.8/site-packages (from posthog->ploomber-core>=0.2.7->jupysql) (2.31.0)\n",
      "Requirement already satisfied: six>=1.5 in /home/maxibeckel/.local/lib/python3.8/site-packages (from posthog->ploomber-core>=0.2.7->jupysql) (1.16.0)\n",
      "Requirement already satisfied: monotonic>=1.5 in /home/maxibeckel/.local/lib/python3.8/site-packages (from posthog->ploomber-core>=0.2.7->jupysql) (1.6)\n",
      "Requirement already satisfied: backoff>=1.10.0 in /home/maxibeckel/.local/lib/python3.8/site-packages (from posthog->ploomber-core>=0.2.7->jupysql) (2.2.1)\n",
      "Requirement already satisfied: python-dateutil>2.1 in /home/maxibeckel/.local/lib/python3.8/site-packages (from posthog->ploomber-core>=0.2.7->jupysql) (2.8.2)\n",
      "Requirement already satisfied: executing>=1.2.0 in /home/maxibeckel/.local/lib/python3.8/site-packages (from stack-data->ipython->jupysql) (1.2.0)\n",
      "Requirement already satisfied: asttokens>=2.1.0 in /home/maxibeckel/.local/lib/python3.8/site-packages (from stack-data->ipython->jupysql) (2.2.1)\n",
      "Requirement already satisfied: pure-eval in /home/maxibeckel/.local/lib/python3.8/site-packages (from stack-data->ipython->jupysql) (0.2.2)\n",
      "Requirement already satisfied: charset-normalizer<4,>=2 in /home/maxibeckel/.local/lib/python3.8/site-packages (from requests<3.0,>=2.7->posthog->ploomber-core>=0.2.7->jupysql) (3.2.0)\n",
      "Requirement already satisfied: idna<4,>=2.5 in /home/maxibeckel/.local/lib/python3.8/site-packages (from requests<3.0,>=2.7->posthog->ploomber-core>=0.2.7->jupysql) (3.4)\n",
      "Requirement already satisfied: urllib3<3,>=1.21.1 in /home/maxibeckel/.local/lib/python3.8/site-packages (from requests<3.0,>=2.7->posthog->ploomber-core>=0.2.7->jupysql) (2.0.4)\n",
      "Requirement already satisfied: certifi>=2017.4.17 in /home/maxibeckel/.local/lib/python3.8/site-packages (from requests<3.0,>=2.7->posthog->ploomber-core>=0.2.7->jupysql) (2023.7.22)\n",
      "Downloading MarkupSafe-2.1.3-cp38-cp38-manylinux_2_17_x86_64.manylinux2014_x86_64.whl (25 kB)\n"
     ]
    },
    {
     "name": "stderr",
     "output_type": "stream",
     "text": [
      "\u001b[33mDEPRECATION: distro-info 0.18ubuntu0.18.04.1 has a non-standard version number. pip 23.3 will enforce this behaviour change. A possible replacement is to upgrade to a newer version of distro-info or contact the author to suggest that they release a version with a conforming version number. Discussion can be found at https://github.com/pypa/pip/issues/12063\u001b[0m\u001b[33m\n"
     ]
    },
    {
     "name": "stdout",
     "output_type": "stream",
     "text": [
      "Installing collected packages: MarkupSafe, ipython\n",
      "  Attempting uninstall: MarkupSafe\n",
      "    Found existing installation: MarkupSafe 1.0\n",
      "    Uninstalling MarkupSafe-1.0:\n",
      "      Successfully uninstalled MarkupSafe-1.0\n",
      "  Attempting uninstall: ipython\n",
      "    Found existing installation: ipython 8.12.2\n",
      "    Uninstalling ipython-8.12.2:\n",
      "      Successfully uninstalled ipython-8.12.2\n",
      "Successfully installed MarkupSafe-2.1.3 ipython-8.12.0\n"
     ]
    },
    {
     "name": "stderr",
     "output_type": "stream",
     "text": [
      "\u001b[0mWARNING: pip is being invoked by an old script wrapper. This will fail in a future version of pip.\n",
      "Please see https://github.com/pypa/pip/issues/5599 for advice on fixing the underlying issue.\n",
      "To avoid this problem you can invoke Python with '-m pip' instead of running pip directly.\n"
     ]
    },
    {
     "name": "stdout",
     "output_type": "stream",
     "text": [
      "Defaulting to user installation because normal site-packages is not writeable\n",
      "Requirement already satisfied: duckdb-engine in /home/maxibeckel/.local/lib/python3.8/site-packages (0.9.2)\n",
      "Requirement already satisfied: duckdb>=0.4.0 in /home/maxibeckel/.local/lib/python3.8/site-packages (from duckdb-engine) (0.8.1)\n",
      "Requirement already satisfied: sqlalchemy>=1.3.22 in /home/maxibeckel/.local/lib/python3.8/site-packages (from duckdb-engine) (2.0.20)\n",
      "Requirement already satisfied: typing-extensions>=4.2.0 in /home/maxibeckel/.local/lib/python3.8/site-packages (from sqlalchemy>=1.3.22->duckdb-engine) (4.7.1)\n",
      "Requirement already satisfied: greenlet!=0.4.17 in /home/maxibeckel/.local/lib/python3.8/site-packages (from sqlalchemy>=1.3.22->duckdb-engine) (2.0.2)\n"
     ]
    },
    {
     "name": "stderr",
     "output_type": "stream",
     "text": [
      "\u001b[33mDEPRECATION: distro-info 0.18ubuntu0.18.04.1 has a non-standard version number. pip 23.3 will enforce this behaviour change. A possible replacement is to upgrade to a newer version of distro-info or contact the author to suggest that they release a version with a conforming version number. Discussion can be found at https://github.com/pypa/pip/issues/12063\u001b[0m\u001b[33m\n",
      "\u001b[0m"
     ]
    }
   ],
   "source": [
    "#%%bash \n",
    "#pip3 install duckdb\n",
    "#pip3 install jupysql\n",
    "#pip3 install duckdb-engine"
   ]
  },
  {
   "cell_type": "markdown",
   "metadata": {},
   "source": [
    "Configuramos el entorno de ejecución. Si ya tiene todo instalado, solo necesita ejecutar esta celda para empezar a usar **duckdb** "
   ]
  },
  {
   "cell_type": "code",
   "execution_count": 3,
   "metadata": {},
   "outputs": [],
   "source": [
    "import duckdb\n",
    "import pandas as pd\n",
    "\n",
    "%load_ext sql\n",
    "%config SqlMagic.autopandas = True\n",
    "%config SqlMagic.feedback = False\n",
    "%config SqlMagic.displaycon = False\n",
    "\n",
    "%sql duckdb:///:default:"
   ]
  },
  {
   "cell_type": "markdown",
   "metadata": {},
   "source": [
    "Y ya podemos usar **SQL** dentro de una notebook!"
   ]
  },
  {
   "cell_type": "code",
   "execution_count": 4,
   "metadata": {},
   "outputs": [
    {
     "data": {
      "text/html": [
       "<div>\n",
       "<style scoped>\n",
       "    .dataframe tbody tr th:only-of-type {\n",
       "        vertical-align: middle;\n",
       "    }\n",
       "\n",
       "    .dataframe tbody tr th {\n",
       "        vertical-align: top;\n",
       "    }\n",
       "\n",
       "    .dataframe thead th {\n",
       "        text-align: right;\n",
       "    }\n",
       "</style>\n",
       "<table border=\"1\" class=\"dataframe\">\n",
       "  <thead>\n",
       "    <tr style=\"text-align: right;\">\n",
       "      <th></th>\n",
       "      <th>'hola mundo'</th>\n",
       "    </tr>\n",
       "  </thead>\n",
       "  <tbody>\n",
       "    <tr>\n",
       "      <th>0</th>\n",
       "      <td>hola mundo</td>\n",
       "    </tr>\n",
       "  </tbody>\n",
       "</table>\n",
       "</div>"
      ],
      "text/plain": [
       "  'hola mundo'\n",
       "0   hola mundo"
      ]
     },
     "execution_count": 4,
     "metadata": {},
     "output_type": "execute_result"
    }
   ],
   "source": [
    "%%sql\n",
    "select 'hola mundo' "
   ]
  },
  {
   "cell_type": "markdown",
   "metadata": {},
   "source": [
    "Para cargar el archivo `.csv` a una tabla:"
   ]
  },
  {
   "cell_type": "code",
   "execution_count": 5,
   "metadata": {},
   "outputs": [
    {
     "data": {
      "text/html": [
       "<div>\n",
       "<style scoped>\n",
       "    .dataframe tbody tr th:only-of-type {\n",
       "        vertical-align: middle;\n",
       "    }\n",
       "\n",
       "    .dataframe tbody tr th {\n",
       "        vertical-align: top;\n",
       "    }\n",
       "\n",
       "    .dataframe thead th {\n",
       "        text-align: right;\n",
       "    }\n",
       "</style>\n",
       "<table border=\"1\" class=\"dataframe\">\n",
       "  <thead>\n",
       "    <tr style=\"text-align: right;\">\n",
       "      <th></th>\n",
       "      <th>Success</th>\n",
       "    </tr>\n",
       "  </thead>\n",
       "  <tbody>\n",
       "  </tbody>\n",
       "</table>\n",
       "</div>"
      ],
      "text/plain": [
       "Empty DataFrame\n",
       "Columns: [Success]\n",
       "Index: []"
      ]
     },
     "execution_count": 5,
     "metadata": {},
     "output_type": "execute_result"
    }
   ],
   "source": [
    "%%sql\n",
    "create or replace table competencia_01 as \n",
    "select \n",
    "    *\n",
    "from read_csv_auto('/home/maxibeckel/maestria_datos/dmeyf/dmeyf2023/data/competencia_01_crudo.csv')"
   ]
  },
  {
   "cell_type": "markdown",
   "metadata": {},
   "source": [
    "Hagamos unas queries básicas para comprobar que todo esta funcionando bien."
   ]
  },
  {
   "cell_type": "code",
   "execution_count": 6,
   "metadata": {},
   "outputs": [
    {
     "data": {
      "text/html": [
       "<div>\n",
       "<style scoped>\n",
       "    .dataframe tbody tr th:only-of-type {\n",
       "        vertical-align: middle;\n",
       "    }\n",
       "\n",
       "    .dataframe tbody tr th {\n",
       "        vertical-align: top;\n",
       "    }\n",
       "\n",
       "    .dataframe thead th {\n",
       "        text-align: right;\n",
       "    }\n",
       "</style>\n",
       "<table border=\"1\" class=\"dataframe\">\n",
       "  <thead>\n",
       "    <tr style=\"text-align: right;\">\n",
       "      <th></th>\n",
       "      <th>numero_de_cliente</th>\n",
       "      <th>foto_mes</th>\n",
       "      <th>active_quarter</th>\n",
       "      <th>cliente_vip</th>\n",
       "      <th>internet</th>\n",
       "      <th>cliente_edad</th>\n",
       "      <th>cliente_antiguedad</th>\n",
       "      <th>mrentabilidad</th>\n",
       "      <th>mrentabilidad_annual</th>\n",
       "      <th>mcomisiones</th>\n",
       "      <th>...</th>\n",
       "      <th>Visa_madelantodolares</th>\n",
       "      <th>Visa_fultimo_cierre</th>\n",
       "      <th>Visa_mpagado</th>\n",
       "      <th>Visa_mpagospesos</th>\n",
       "      <th>Visa_mpagosdolares</th>\n",
       "      <th>Visa_fechaalta</th>\n",
       "      <th>Visa_mconsumototal</th>\n",
       "      <th>Visa_cconsumos</th>\n",
       "      <th>Visa_cadelantosefectivo</th>\n",
       "      <th>Visa_mpagominimo</th>\n",
       "    </tr>\n",
       "  </thead>\n",
       "  <tbody>\n",
       "    <tr>\n",
       "      <th>0</th>\n",
       "      <td>29183981</td>\n",
       "      <td>202103</td>\n",
       "      <td>1</td>\n",
       "      <td>0</td>\n",
       "      <td>0</td>\n",
       "      <td>50</td>\n",
       "      <td>197</td>\n",
       "      <td>14468.81</td>\n",
       "      <td>125765.29</td>\n",
       "      <td>2389.82</td>\n",
       "      <td>...</td>\n",
       "      <td>0.0</td>\n",
       "      <td>7</td>\n",
       "      <td>0.00</td>\n",
       "      <td>-114954.00</td>\n",
       "      <td>0.00</td>\n",
       "      <td>5938</td>\n",
       "      <td>101050.66</td>\n",
       "      <td>68</td>\n",
       "      <td>0</td>\n",
       "      <td>71811.06</td>\n",
       "    </tr>\n",
       "    <tr>\n",
       "      <th>1</th>\n",
       "      <td>29184630</td>\n",
       "      <td>202103</td>\n",
       "      <td>1</td>\n",
       "      <td>0</td>\n",
       "      <td>0</td>\n",
       "      <td>59</td>\n",
       "      <td>322</td>\n",
       "      <td>11901.57</td>\n",
       "      <td>74158.93</td>\n",
       "      <td>18750.68</td>\n",
       "      <td>...</td>\n",
       "      <td>0.0</td>\n",
       "      <td>1</td>\n",
       "      <td>0.00</td>\n",
       "      <td>-40330.15</td>\n",
       "      <td>17.59</td>\n",
       "      <td>4089</td>\n",
       "      <td>26834.09</td>\n",
       "      <td>7</td>\n",
       "      <td>0</td>\n",
       "      <td>3894.36</td>\n",
       "    </tr>\n",
       "    <tr>\n",
       "      <th>2</th>\n",
       "      <td>29185433</td>\n",
       "      <td>202103</td>\n",
       "      <td>1</td>\n",
       "      <td>0</td>\n",
       "      <td>0</td>\n",
       "      <td>68</td>\n",
       "      <td>268</td>\n",
       "      <td>847.15</td>\n",
       "      <td>21672.47</td>\n",
       "      <td>481.62</td>\n",
       "      <td>...</td>\n",
       "      <td>0.0</td>\n",
       "      <td>21</td>\n",
       "      <td>4692.00</td>\n",
       "      <td>-1173.00</td>\n",
       "      <td>0.00</td>\n",
       "      <td>7829</td>\n",
       "      <td>1651.36</td>\n",
       "      <td>3</td>\n",
       "      <td>0</td>\n",
       "      <td>1560.09</td>\n",
       "    </tr>\n",
       "    <tr>\n",
       "      <th>3</th>\n",
       "      <td>29185587</td>\n",
       "      <td>202103</td>\n",
       "      <td>1</td>\n",
       "      <td>0</td>\n",
       "      <td>0</td>\n",
       "      <td>79</td>\n",
       "      <td>322</td>\n",
       "      <td>4976.94</td>\n",
       "      <td>47735.98</td>\n",
       "      <td>1839.31</td>\n",
       "      <td>...</td>\n",
       "      <td>0.0</td>\n",
       "      <td>1</td>\n",
       "      <td>0.00</td>\n",
       "      <td>-15988.67</td>\n",
       "      <td>0.00</td>\n",
       "      <td>7580</td>\n",
       "      <td>30025.29</td>\n",
       "      <td>11</td>\n",
       "      <td>0</td>\n",
       "      <td>1700.85</td>\n",
       "    </tr>\n",
       "    <tr>\n",
       "      <th>4</th>\n",
       "      <td>29185646</td>\n",
       "      <td>202103</td>\n",
       "      <td>1</td>\n",
       "      <td>0</td>\n",
       "      <td>0</td>\n",
       "      <td>60</td>\n",
       "      <td>257</td>\n",
       "      <td>2860.45</td>\n",
       "      <td>37800.71</td>\n",
       "      <td>4035.40</td>\n",
       "      <td>...</td>\n",
       "      <td>0.0</td>\n",
       "      <td>21</td>\n",
       "      <td>380616.14</td>\n",
       "      <td>-97383.25</td>\n",
       "      <td>0.00</td>\n",
       "      <td>7827</td>\n",
       "      <td>359610.70</td>\n",
       "      <td>31</td>\n",
       "      <td>0</td>\n",
       "      <td>15600.90</td>\n",
       "    </tr>\n",
       "  </tbody>\n",
       "</table>\n",
       "<p>5 rows × 154 columns</p>\n",
       "</div>"
      ],
      "text/plain": [
       "   numero_de_cliente  foto_mes  active_quarter  cliente_vip  internet  \\\n",
       "0           29183981    202103               1            0         0   \n",
       "1           29184630    202103               1            0         0   \n",
       "2           29185433    202103               1            0         0   \n",
       "3           29185587    202103               1            0         0   \n",
       "4           29185646    202103               1            0         0   \n",
       "\n",
       "   cliente_edad  cliente_antiguedad  mrentabilidad  mrentabilidad_annual  \\\n",
       "0            50                 197       14468.81             125765.29   \n",
       "1            59                 322       11901.57              74158.93   \n",
       "2            68                 268         847.15              21672.47   \n",
       "3            79                 322        4976.94              47735.98   \n",
       "4            60                 257        2860.45              37800.71   \n",
       "\n",
       "   mcomisiones  ...  Visa_madelantodolares  Visa_fultimo_cierre  Visa_mpagado  \\\n",
       "0      2389.82  ...                    0.0                    7          0.00   \n",
       "1     18750.68  ...                    0.0                    1          0.00   \n",
       "2       481.62  ...                    0.0                   21       4692.00   \n",
       "3      1839.31  ...                    0.0                    1          0.00   \n",
       "4      4035.40  ...                    0.0                   21     380616.14   \n",
       "\n",
       "   Visa_mpagospesos  Visa_mpagosdolares  Visa_fechaalta  Visa_mconsumototal  \\\n",
       "0        -114954.00                0.00            5938           101050.66   \n",
       "1         -40330.15               17.59            4089            26834.09   \n",
       "2          -1173.00                0.00            7829             1651.36   \n",
       "3         -15988.67                0.00            7580            30025.29   \n",
       "4         -97383.25                0.00            7827           359610.70   \n",
       "\n",
       "   Visa_cconsumos  Visa_cadelantosefectivo  Visa_mpagominimo  \n",
       "0              68                        0          71811.06  \n",
       "1               7                        0           3894.36  \n",
       "2               3                        0           1560.09  \n",
       "3              11                        0           1700.85  \n",
       "4              31                        0          15600.90  \n",
       "\n",
       "[5 rows x 154 columns]"
      ]
     },
     "execution_count": 6,
     "metadata": {},
     "output_type": "execute_result"
    }
   ],
   "source": [
    "%sql select * from competencia_01 limit 5"
   ]
  },
  {
   "cell_type": "code",
   "execution_count": 7,
   "metadata": {},
   "outputs": [
    {
     "data": {
      "text/html": [
       "<div>\n",
       "<style scoped>\n",
       "    .dataframe tbody tr th:only-of-type {\n",
       "        vertical-align: middle;\n",
       "    }\n",
       "\n",
       "    .dataframe tbody tr th {\n",
       "        vertical-align: top;\n",
       "    }\n",
       "\n",
       "    .dataframe thead th {\n",
       "        text-align: right;\n",
       "    }\n",
       "</style>\n",
       "<table border=\"1\" class=\"dataframe\">\n",
       "  <thead>\n",
       "    <tr style=\"text-align: right;\">\n",
       "      <th></th>\n",
       "      <th>foto_mes</th>\n",
       "      <th>cantidad</th>\n",
       "    </tr>\n",
       "  </thead>\n",
       "  <tbody>\n",
       "    <tr>\n",
       "      <th>0</th>\n",
       "      <td>202103</td>\n",
       "      <td>163324</td>\n",
       "    </tr>\n",
       "    <tr>\n",
       "      <th>1</th>\n",
       "      <td>202104</td>\n",
       "      <td>163637</td>\n",
       "    </tr>\n",
       "    <tr>\n",
       "      <th>2</th>\n",
       "      <td>202105</td>\n",
       "      <td>164102</td>\n",
       "    </tr>\n",
       "  </tbody>\n",
       "</table>\n",
       "</div>"
      ],
      "text/plain": [
       "   foto_mes  cantidad\n",
       "0    202103    163324\n",
       "1    202104    163637\n",
       "2    202105    164102"
      ]
     },
     "execution_count": 7,
     "metadata": {},
     "output_type": "execute_result"
    }
   ],
   "source": [
    "%%sql\n",
    "select \n",
    "    foto_mes\n",
    "    , count(*) as cantidad -- cuenta cuantos casos hay en cada foto_mes \n",
    "                           -- y lo guarda en un campo llamado cantidad\n",
    "from competencia_01\n",
    "group by foto_mes"
   ]
  },
  {
   "cell_type": "markdown",
   "metadata": {},
   "source": [
    "Perfecto, ahora cree una nueva tabla con la variable adicional que se le pide. Algunas funciones que le pueden ser útiles:  [where](https://duckdb.org/docs/sql/query_syntax/where), [left join](https://duckdb.org/docs/sql/query_syntax/from), [case statement](https://duckdb.org/docs/sql/expressions/case)\n",
    "\n"
   ]
  },
  {
   "cell_type": "code",
   "execution_count": null,
   "metadata": {},
   "outputs": [],
   "source": [
    "%%sql\n",
    "-- escriba la query "
   ]
  },
  {
   "cell_type": "markdown",
   "metadata": {},
   "source": [
    "## Ejercicio 1.1\n",
    "\n",
    "* ¿Cuál es la nominalidad de cada clase?\n",
    "* ¿Cuál es la proporción del target?"
   ]
  },
  {
   "cell_type": "code",
   "execution_count": null,
   "metadata": {},
   "outputs": [],
   "source": [
    "%%sql\n",
    "-- introduzca sus queries"
   ]
  },
  {
   "cell_type": "markdown",
   "metadata": {},
   "source": [
    "Para guardar a un **.csv** simplemente debe ejecutar la siguiente sentencia"
   ]
  },
  {
   "cell_type": "code",
   "execution_count": null,
   "metadata": {},
   "outputs": [],
   "source": [
    "%%sql\n",
    "COPY competencia_01 TO '/home/aleb/dmeyf23/datasets/competencia_01.csv' (FORMAT CSV, HEADER)"
   ]
  },
  {
   "cell_type": "markdown",
   "metadata": {},
   "source": [
    "## Ejercicio 2 - Avanzado\n",
    "Use ahora el archivo `ejercicio_target.csv` y calcule para todos los clientes en todos los periodos su **clase_ternaria** al mismo tiempo"
   ]
  }
 ],
 "metadata": {
  "kernelspec": {
   "display_name": "Python 3",
   "language": "python",
   "name": "python3"
  },
  "language_info": {
   "codemirror_mode": {
    "name": "ipython",
    "version": 3
   },
   "file_extension": ".py",
   "mimetype": "text/x-python",
   "name": "python",
   "nbconvert_exporter": "python",
   "pygments_lexer": "ipython3",
   "version": "3.8.0"
  },
  "orig_nbformat": 4
 },
 "nbformat": 4,
 "nbformat_minor": 2
}
